{
 "cells": [
  {
   "cell_type": "code",
   "execution_count": 2,
   "id": "3b15dd0e",
   "metadata": {},
   "outputs": [],
   "source": [
    "import pandas as pd"
   ]
  },
  {
   "cell_type": "code",
   "execution_count": 4,
   "id": "8b66b8ae",
   "metadata": {},
   "outputs": [],
   "source": [
    "viridis_inferno = pd.read_csv('viridis_inferno.csv')"
   ]
  },
  {
   "cell_type": "code",
   "execution_count": 30,
   "id": "3da560af",
   "metadata": {},
   "outputs": [],
   "source": [
    "rand_viridis_inferno = viridis_inferno.sample(frac=1).reset_index(drop=True)"
   ]
  },
  {
   "cell_type": "code",
   "execution_count": 31,
   "id": "acd3c70e",
   "metadata": {},
   "outputs": [],
   "source": [
    "rand_viridis_inferno.to_csv('viridis_inferno_codes.csv')"
   ]
  }
 ],
 "metadata": {
  "kernelspec": {
   "display_name": "Python 3 (ipykernel)",
   "language": "python",
   "name": "python3"
  },
  "language_info": {
   "codemirror_mode": {
    "name": "ipython",
    "version": 3
   },
   "file_extension": ".py",
   "mimetype": "text/x-python",
   "name": "python",
   "nbconvert_exporter": "python",
   "pygments_lexer": "ipython3",
   "version": "3.10.3"
  }
 },
 "nbformat": 4,
 "nbformat_minor": 5
}
